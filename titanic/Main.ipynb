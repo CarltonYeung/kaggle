{
 "cells": [
  {
   "cell_type": "code",
   "execution_count": 1,
   "id": "80153162-0a13-467e-b2ea-8c033f4d1e59",
   "metadata": {},
   "outputs": [],
   "source": [
    "import pandas as pd\n",
    "import numpy as np\n",
    "from sklearn.linear_model import LogisticRegression\n",
    "from sklearn.model_selection import train_test_split"
   ]
  },
  {
   "cell_type": "code",
   "execution_count": 2,
   "id": "01f789e5-06c5-4b41-ad36-b73f75b6d0d0",
   "metadata": {},
   "outputs": [
    {
     "name": "stdout",
     "output_type": "stream",
     "text": [
      "(891, 12)\n"
     ]
    }
   ],
   "source": [
    "train_df = pd.read_csv('data/train.csv')\n",
    "print(train_df.shape)"
   ]
  },
  {
   "cell_type": "code",
   "execution_count": 3,
   "id": "2bbc9bee-8998-485e-9a51-91289c3a91db",
   "metadata": {},
   "outputs": [],
   "source": [
    "# Remove rows with missing data\n",
    "# train_df.dropna(subset=['Age'], inplace=True)\n",
    "# train_df"
   ]
  },
  {
   "cell_type": "code",
   "execution_count": 4,
   "id": "59bc5f2d-660b-4bbc-bd4f-81ecb683d8ad",
   "metadata": {},
   "outputs": [],
   "source": [
    "# Convert values to numbers\n",
    "\n",
    "def make_numeric(df):\n",
    "    # Sex: male = 0, female = 1\n",
    "    df['Sex'] = df['Sex'].map(lambda sex: 0 if sex == 'male' else 1)\n",
    "\n",
    "    # Embarked: S = 0, C = 1, Q = 3, else = 3\n",
    "    def map_embarked(embarked):\n",
    "        if embarked == 'S':\n",
    "            return 0\n",
    "        elif embarked == 'C':\n",
    "            return 1\n",
    "        elif embarked == 'Q':\n",
    "            return 2\n",
    "        return 3\n",
    "\n",
    "    df['Embarked'] = df['Embarked'].map(map_embarked)\n",
    "\n",
    "    # Age: replace missing ages with the average\n",
    "    df['Age'] = df['Age'].fillna(df['Age'].mean())\n",
    "    \n",
    "    # Fare: replace missing fares with the average\n",
    "    df['Fare'] = df['Fare'].fillna(df['Fare'].mean())\n",
    "\n",
    "make_numeric(train_df)"
   ]
  },
  {
   "cell_type": "code",
   "execution_count": 5,
   "id": "912647f2-ed1d-495b-8b75-c64df5105ded",
   "metadata": {},
   "outputs": [],
   "source": [
    "# Feature engineering\n",
    "\n",
    "def engineer_features(df):\n",
    "    # Deck number: letter of cabin to ASCII numeral\n",
    "    df['Cabin'] = df['Cabin'].fillna('')\n",
    "\n",
    "    def map_cabin_to_deck(cabin):\n",
    "        if cabin:\n",
    "            return ord(cabin[0]) - ord('A') + 1\n",
    "        return 0\n",
    "\n",
    "    df['Deck'] = df['Cabin'].map(map_cabin_to_deck)\n",
    "\n",
    "engineer_features(train_df)"
   ]
  },
  {
   "cell_type": "code",
   "execution_count": 6,
   "id": "6f51718a-9d8c-4a50-9a66-ffec03432cd4",
   "metadata": {},
   "outputs": [
    {
     "data": {
      "text/html": [
       "<div>\n",
       "<style scoped>\n",
       "    .dataframe tbody tr th:only-of-type {\n",
       "        vertical-align: middle;\n",
       "    }\n",
       "\n",
       "    .dataframe tbody tr th {\n",
       "        vertical-align: top;\n",
       "    }\n",
       "\n",
       "    .dataframe thead th {\n",
       "        text-align: right;\n",
       "    }\n",
       "</style>\n",
       "<table border=\"1\" class=\"dataframe\">\n",
       "  <thead>\n",
       "    <tr style=\"text-align: right;\">\n",
       "      <th></th>\n",
       "      <th>PassengerId</th>\n",
       "      <th>Survived</th>\n",
       "      <th>Pclass</th>\n",
       "      <th>Age</th>\n",
       "      <th>Sex</th>\n",
       "      <th>Fare</th>\n",
       "      <th>Embarked</th>\n",
       "      <th>SibSp</th>\n",
       "      <th>Parch</th>\n",
       "      <th>Deck</th>\n",
       "    </tr>\n",
       "  </thead>\n",
       "  <tbody>\n",
       "    <tr>\n",
       "      <th>0</th>\n",
       "      <td>1</td>\n",
       "      <td>0</td>\n",
       "      <td>3</td>\n",
       "      <td>22.000000</td>\n",
       "      <td>0</td>\n",
       "      <td>7.2500</td>\n",
       "      <td>0</td>\n",
       "      <td>1</td>\n",
       "      <td>0</td>\n",
       "      <td>0</td>\n",
       "    </tr>\n",
       "    <tr>\n",
       "      <th>1</th>\n",
       "      <td>2</td>\n",
       "      <td>1</td>\n",
       "      <td>1</td>\n",
       "      <td>38.000000</td>\n",
       "      <td>1</td>\n",
       "      <td>71.2833</td>\n",
       "      <td>1</td>\n",
       "      <td>1</td>\n",
       "      <td>0</td>\n",
       "      <td>3</td>\n",
       "    </tr>\n",
       "    <tr>\n",
       "      <th>2</th>\n",
       "      <td>3</td>\n",
       "      <td>1</td>\n",
       "      <td>3</td>\n",
       "      <td>26.000000</td>\n",
       "      <td>1</td>\n",
       "      <td>7.9250</td>\n",
       "      <td>0</td>\n",
       "      <td>0</td>\n",
       "      <td>0</td>\n",
       "      <td>0</td>\n",
       "    </tr>\n",
       "    <tr>\n",
       "      <th>3</th>\n",
       "      <td>4</td>\n",
       "      <td>1</td>\n",
       "      <td>1</td>\n",
       "      <td>35.000000</td>\n",
       "      <td>1</td>\n",
       "      <td>53.1000</td>\n",
       "      <td>0</td>\n",
       "      <td>1</td>\n",
       "      <td>0</td>\n",
       "      <td>3</td>\n",
       "    </tr>\n",
       "    <tr>\n",
       "      <th>4</th>\n",
       "      <td>5</td>\n",
       "      <td>0</td>\n",
       "      <td>3</td>\n",
       "      <td>35.000000</td>\n",
       "      <td>0</td>\n",
       "      <td>8.0500</td>\n",
       "      <td>0</td>\n",
       "      <td>0</td>\n",
       "      <td>0</td>\n",
       "      <td>0</td>\n",
       "    </tr>\n",
       "    <tr>\n",
       "      <th>...</th>\n",
       "      <td>...</td>\n",
       "      <td>...</td>\n",
       "      <td>...</td>\n",
       "      <td>...</td>\n",
       "      <td>...</td>\n",
       "      <td>...</td>\n",
       "      <td>...</td>\n",
       "      <td>...</td>\n",
       "      <td>...</td>\n",
       "      <td>...</td>\n",
       "    </tr>\n",
       "    <tr>\n",
       "      <th>886</th>\n",
       "      <td>887</td>\n",
       "      <td>0</td>\n",
       "      <td>2</td>\n",
       "      <td>27.000000</td>\n",
       "      <td>0</td>\n",
       "      <td>13.0000</td>\n",
       "      <td>0</td>\n",
       "      <td>0</td>\n",
       "      <td>0</td>\n",
       "      <td>0</td>\n",
       "    </tr>\n",
       "    <tr>\n",
       "      <th>887</th>\n",
       "      <td>888</td>\n",
       "      <td>1</td>\n",
       "      <td>1</td>\n",
       "      <td>19.000000</td>\n",
       "      <td>1</td>\n",
       "      <td>30.0000</td>\n",
       "      <td>0</td>\n",
       "      <td>0</td>\n",
       "      <td>0</td>\n",
       "      <td>2</td>\n",
       "    </tr>\n",
       "    <tr>\n",
       "      <th>888</th>\n",
       "      <td>889</td>\n",
       "      <td>0</td>\n",
       "      <td>3</td>\n",
       "      <td>29.699118</td>\n",
       "      <td>1</td>\n",
       "      <td>23.4500</td>\n",
       "      <td>0</td>\n",
       "      <td>1</td>\n",
       "      <td>2</td>\n",
       "      <td>0</td>\n",
       "    </tr>\n",
       "    <tr>\n",
       "      <th>889</th>\n",
       "      <td>890</td>\n",
       "      <td>1</td>\n",
       "      <td>1</td>\n",
       "      <td>26.000000</td>\n",
       "      <td>0</td>\n",
       "      <td>30.0000</td>\n",
       "      <td>1</td>\n",
       "      <td>0</td>\n",
       "      <td>0</td>\n",
       "      <td>3</td>\n",
       "    </tr>\n",
       "    <tr>\n",
       "      <th>890</th>\n",
       "      <td>891</td>\n",
       "      <td>0</td>\n",
       "      <td>3</td>\n",
       "      <td>32.000000</td>\n",
       "      <td>0</td>\n",
       "      <td>7.7500</td>\n",
       "      <td>2</td>\n",
       "      <td>0</td>\n",
       "      <td>0</td>\n",
       "      <td>0</td>\n",
       "    </tr>\n",
       "  </tbody>\n",
       "</table>\n",
       "<p>891 rows × 10 columns</p>\n",
       "</div>"
      ],
      "text/plain": [
       "     PassengerId  Survived  Pclass        Age  Sex     Fare  Embarked  SibSp  \\\n",
       "0              1         0       3  22.000000    0   7.2500         0      1   \n",
       "1              2         1       1  38.000000    1  71.2833         1      1   \n",
       "2              3         1       3  26.000000    1   7.9250         0      0   \n",
       "3              4         1       1  35.000000    1  53.1000         0      1   \n",
       "4              5         0       3  35.000000    0   8.0500         0      0   \n",
       "..           ...       ...     ...        ...  ...      ...       ...    ...   \n",
       "886          887         0       2  27.000000    0  13.0000         0      0   \n",
       "887          888         1       1  19.000000    1  30.0000         0      0   \n",
       "888          889         0       3  29.699118    1  23.4500         0      1   \n",
       "889          890         1       1  26.000000    0  30.0000         1      0   \n",
       "890          891         0       3  32.000000    0   7.7500         2      0   \n",
       "\n",
       "     Parch  Deck  \n",
       "0        0     0  \n",
       "1        0     3  \n",
       "2        0     0  \n",
       "3        0     3  \n",
       "4        0     0  \n",
       "..     ...   ...  \n",
       "886      0     0  \n",
       "887      0     2  \n",
       "888      2     0  \n",
       "889      0     3  \n",
       "890      0     0  \n",
       "\n",
       "[891 rows x 10 columns]"
      ]
     },
     "execution_count": 6,
     "metadata": {},
     "output_type": "execute_result"
    }
   ],
   "source": [
    "# Select a subset of the columns to work with\n",
    "get_columns = lambda df: df[['PassengerId', 'Survived', 'Pclass', 'Age', 'Sex', 'Fare', 'Embarked', 'SibSp', 'Parch', 'Deck']]\n",
    "train_df = get_columns(train_df)\n",
    "train_df"
   ]
  },
  {
   "cell_type": "code",
   "execution_count": 7,
   "id": "c0bf7c76-ea65-4a6b-9323-bb9d36c83bc2",
   "metadata": {},
   "outputs": [],
   "source": [
    "# Train test split\n",
    "X_train, X_val, y_train, y_val = train_test_split(train_df.drop('Survived', axis=1), train_df['Survived'])"
   ]
  },
  {
   "cell_type": "code",
   "execution_count": 8,
   "id": "899221c1-2d00-4a17-b356-52bed4b37cdb",
   "metadata": {},
   "outputs": [
    {
     "name": "stderr",
     "output_type": "stream",
     "text": [
      "/home/carlton/.local/lib/python3.10/site-packages/sklearn/linear_model/_logistic.py:814: ConvergenceWarning: lbfgs failed to converge (status=1):\n",
      "STOP: TOTAL NO. of ITERATIONS REACHED LIMIT.\n",
      "\n",
      "Increase the number of iterations (max_iter) or scale the data as shown in:\n",
      "    https://scikit-learn.org/stable/modules/preprocessing.html\n",
      "Please also refer to the documentation for alternative solver options:\n",
      "    https://scikit-learn.org/stable/modules/linear_model.html#logistic-regression\n",
      "  n_iter_i = _check_optimize_result(\n"
     ]
    },
    {
     "data": {
      "text/plain": [
       "LogisticRegression()"
      ]
     },
     "execution_count": 8,
     "metadata": {},
     "output_type": "execute_result"
    }
   ],
   "source": [
    "# Train the model\n",
    "model = LogisticRegression()\n",
    "model.fit(X_train, y_train)"
   ]
  },
  {
   "cell_type": "code",
   "execution_count": 9,
   "id": "e5630db5-c660-41fa-ab7d-7975470cee2d",
   "metadata": {},
   "outputs": [
    {
     "data": {
      "text/plain": [
       "0.7979041916167665"
      ]
     },
     "execution_count": 9,
     "metadata": {},
     "output_type": "execute_result"
    }
   ],
   "source": [
    "# Get the training error\n",
    "model.score(X_train, y_train)"
   ]
  },
  {
   "cell_type": "code",
   "execution_count": 10,
   "id": "c1773acd-2693-4b59-8bd2-aef515f431fe",
   "metadata": {},
   "outputs": [
    {
     "data": {
      "text/plain": [
       "0.820627802690583"
      ]
     },
     "execution_count": 10,
     "metadata": {},
     "output_type": "execute_result"
    }
   ],
   "source": [
    "# Get the cross validation error\n",
    "model.score(X_val, y_val)"
   ]
  },
  {
   "cell_type": "code",
   "execution_count": 11,
   "id": "7159b9f1-91b9-4551-bc49-2bf1d588d897",
   "metadata": {},
   "outputs": [
    {
     "data": {
      "text/plain": [
       "0.820627802690583"
      ]
     },
     "execution_count": 11,
     "metadata": {},
     "output_type": "execute_result"
    }
   ],
   "source": [
    "# What score is doing\n",
    "prediction = (model.predict(X_val) > 0.5).astype(int)\n",
    "np.sum(prediction == y_val) / len(y_val)"
   ]
  },
  {
   "cell_type": "code",
   "execution_count": 12,
   "id": "69dee5b5-6772-4c43-9aac-a6d0c2ba149c",
   "metadata": {},
   "outputs": [
    {
     "name": "stdout",
     "output_type": "stream",
     "text": [
      "% of models overfitting = 0.64\n",
      "avg training score = 0.812589820359281\n",
      "avg val score = 0.8035426008968617\n"
     ]
    }
   ],
   "source": [
    "# Determine whether model is overfitting or underfitting\n",
    "# If cross validation error is greater than the training error, then it is overfitting\n",
    "# If the errors are very different, then we may need more training examples\n",
    "\n",
    "ITERS = 100\n",
    "overfit = 0\n",
    "total_score_train = 0\n",
    "total_score_val = 0\n",
    "\n",
    "for _ in range(ITERS):\n",
    "    X_train, X_val, y_train, y_val = train_test_split(train_df.drop(['PassengerId', 'Survived'], axis=1), train_df['Survived'])\n",
    "    \n",
    "    model = LogisticRegression(max_iter=10_000)\n",
    "    model.fit(X_train, y_train)\n",
    "    \n",
    "    score_train = model.score(X_train, y_train)\n",
    "    score_val = model.score(X_val, y_val)\n",
    "    \n",
    "    total_score_train += score_train\n",
    "    total_score_val += score_val\n",
    "    \n",
    "    if score_train > score_val:\n",
    "        overfit += 1\n",
    "\n",
    "print(f'% of models overfitting = {overfit / ITERS}')\n",
    "print(f'avg training score = {total_score_train / ITERS}')\n",
    "print(f'avg val score = {total_score_val / ITERS}')"
   ]
  },
  {
   "cell_type": "code",
   "execution_count": 13,
   "id": "fdec7fc9-144a-4be8-8450-dcb063b30a0d",
   "metadata": {},
   "outputs": [
    {
     "name": "stdout",
     "output_type": "stream",
     "text": [
      "     PassengerId  Survived  Pclass        Age  Sex     Fare  Embarked  SibSp  \\\n",
      "0              1         0       3  22.000000    0   7.2500         0      1   \n",
      "1              2         1       1  38.000000    1  71.2833         1      1   \n",
      "2              3         1       3  26.000000    1   7.9250         0      0   \n",
      "3              4         1       1  35.000000    1  53.1000         0      1   \n",
      "4              5         0       3  35.000000    0   8.0500         0      0   \n",
      "..           ...       ...     ...        ...  ...      ...       ...    ...   \n",
      "886          887         0       2  27.000000    0  13.0000         0      0   \n",
      "887          888         1       1  19.000000    1  30.0000         0      0   \n",
      "888          889         0       3  29.699118    1  23.4500         0      1   \n",
      "889          890         1       1  26.000000    0  30.0000         1      0   \n",
      "890          891         0       3  32.000000    0   7.7500         2      0   \n",
      "\n",
      "     Parch  Deck  \n",
      "0        0     0  \n",
      "1        0     3  \n",
      "2        0     0  \n",
      "3        0     3  \n",
      "4        0     0  \n",
      "..     ...   ...  \n",
      "886      0     0  \n",
      "887      0     2  \n",
      "888      2     0  \n",
      "889      0     3  \n",
      "890      0     0  \n",
      "\n",
      "[891 rows x 10 columns]\n",
      "0.813692480359147\n"
     ]
    }
   ],
   "source": [
    "# Train a model on the entire training set without splitting it\n",
    "\n",
    "X_train = train_df.drop(['PassengerId', 'Survived'], axis=1)\n",
    "y_train = train_df['Survived']\n",
    "model = LogisticRegression(max_iter=10_000)\n",
    "model.fit(X_train, y_train)\n",
    "\n",
    "score = model.score(X_train, y_train)\n",
    "print(score)\n",
    "\n",
    "# Output predictions on test set\n",
    "test_df = pd.read_csv('data/test.csv')\n",
    "make_numeric(test_df)\n",
    "engineer_features(test_df)\n",
    "test_df = test_df[['PassengerId', 'Pclass', 'Age', 'Sex', 'Fare', 'Embarked', 'SibSp', 'Parch', 'Deck']]\n",
    "\n",
    "X_test = test_df.drop(['PassengerId'], axis=1)\n",
    "# X_test[X_test.isna().any(axis=1)]\n",
    "\n",
    "prediction = (model.predict(X_test) > 0.5).astype(int)\n",
    "\n",
    "predictions_df = pd.DataFrame({\n",
    "    'PassengerId': test_df['PassengerId'],\n",
    "    'Survived': prediction\n",
    "})\n",
    "\n",
    "predictions_df.to_csv('test_predictions.csv', index=False)"
   ]
  },
  {
   "cell_type": "code",
   "execution_count": 14,
   "id": "b7e7e472-e0f5-4fd2-9b4a-9c7ef106bdca",
   "metadata": {},
   "outputs": [],
   "source": [
    "# TODO: try neural network"
   ]
  }
 ],
 "metadata": {
  "kernelspec": {
   "display_name": "Python 3 (ipykernel)",
   "language": "python",
   "name": "python3"
  },
  "language_info": {
   "codemirror_mode": {
    "name": "ipython",
    "version": 3
   },
   "file_extension": ".py",
   "mimetype": "text/x-python",
   "name": "python",
   "nbconvert_exporter": "python",
   "pygments_lexer": "ipython3",
   "version": "3.10.4"
  }
 },
 "nbformat": 4,
 "nbformat_minor": 5
}
